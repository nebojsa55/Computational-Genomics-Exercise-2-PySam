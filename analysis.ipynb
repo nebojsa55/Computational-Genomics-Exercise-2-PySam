{
 "metadata": {
  "language_info": {
   "codemirror_mode": {
    "name": "ipython",
    "version": 3
   },
   "file_extension": ".py",
   "mimetype": "text/x-python",
   "name": "python",
   "nbconvert_exporter": "python",
   "pygments_lexer": "ipython3",
   "version": "3.8.5-final"
  },
  "orig_nbformat": 2,
  "kernelspec": {
   "name": "python38564bitenvgenomskac5c98823f38c4caaac6892ad62318139",
   "display_name": "Python 3.8.5 64-bit ('envgenomska')",
   "language": "python"
  }
 },
 "nbformat": 4,
 "nbformat_minor": 2,
 "cells": [
  {
   "cell_type": "code",
   "execution_count": 1,
   "metadata": {},
   "outputs": [],
   "source": [
    "import pysam"
   ]
  },
  {
   "cell_type": "code",
   "execution_count": 2,
   "metadata": {},
   "outputs": [],
   "source": [
    "# read our file in BAM format, and create a AlignmentFile object\n",
    "data = pysam.AlignmentFile(\"merged-tumor.bam\", \"rb\")"
   ]
  },
  {
   "cell_type": "code",
   "execution_count": 3,
   "metadata": {},
   "outputs": [
    {
     "output_type": "stream",
     "name": "stdout",
     "text": [
      "C0HVYACXX120402:7:1207:5722:57044\t1187\t20\t9483248\t27\t76M\t20\t9483381\t76\tTTTTCAAACAGTATCTATGCCTGCCAAATGTGAACATATAAAAAAAAACCAGAATGTGCCATTCTGATTTAAACTG\tarray('B', [28, 28, 27, 29, 31, 30, 31, 31, 29, 31, 35, 30, 29, 31, 34, 30, 29, 23, 41, 32, 20, 30, 29, 34, 34, 29, 30, 31, 30, 30, 30, 33, 33, 26, 39, 12, 25, 19, 32, 30, 35, 28, 35, 33, 23, 33, 35, 36, 30, 38, 33, 41, 34, 35, 31, 33, 23, 30, 30, 36, 27, 32, 29, 34, 35, 41, 33, 31, 33, 29, 32, 32, 31, 31, 31, 34])\t[('XA', 'GL000217.1,-110754,76M,1;'), ('BD', 'NNNNNNNNNNNNNNNNNNNNNNNNNNNNNNNNNNNNNNNNNNNNNNNNNNNNNNNNNNNNNNNNNNNNNNNNNNNN'), ('MD', '76'), ('RG', '1'), ('BI', 'NNNNNNNNNNNNNNNNNNNNNNNNNNNNNNNNNNNNNNNNNNNNNNNNNNNNNNNNNNNNNNNNNNNNNNNNNNNN'), ('NM', 0), ('MQ', 27), ('AS', 76), ('XS', 71)]\n"
     ]
    }
   ],
   "source": [
    "# take the first read out of the bam file\n",
    "read_first = data.head(1)\n",
    "for iter in read_first:\n",
    "    print(str(iter))\n"
   ]
  },
  {
   "cell_type": "code",
   "execution_count": 4,
   "metadata": {},
   "outputs": [
    {
     "output_type": "stream",
     "name": "stdout",
     "text": [
      "Fields in sam file types:\n\nname\nflag\nref_name\nref_pos\nmap_quality\ncigar\nnext_ref_name\nnext_ref_pos\nlength\nseq\nqual\ntags\n"
     ]
    }
   ],
   "source": [
    "# make a dict out of AligmentSegment type\n",
    "read_dict = iter.to_dict()\n",
    "print('Fields in sam file types:\\n')\n",
    "for keys in read_dict:\n",
    "    print(keys)\n"
   ]
  },
  {
   "cell_type": "code",
   "execution_count": 5,
   "metadata": {},
   "outputs": [
    {
     "output_type": "stream",
     "name": "stdout",
     "text": [
      "Flag in the first read:\n\n1187\n"
     ]
    }
   ],
   "source": [
    "print('Flag in the first read:\\n')\n",
    "print(read_dict['flag'])"
   ]
  },
  {
   "source": [
    "By looking at the flag we can see that the first read is:\n",
    "\n",
    "1. paired (0x1)\n",
    "\n",
    "2. mapped in proper pair (0x2)\n",
    "\n",
    "3. mate reverse strand (0x20)\n",
    "\n",
    "4. second in pair (0x80)\n",
    "\n",
    "5. PCR or optical duplicate (0x400)"
   ],
   "cell_type": "markdown",
   "metadata": {}
  },
  {
   "cell_type": "code",
   "execution_count": 6,
   "metadata": {},
   "outputs": [
    {
     "output_type": "stream",
     "name": "stdout",
     "text": [
      "The total number of reads is: \n\n2921629\n"
     ]
    }
   ],
   "source": [
    "total_num_of_reads = data.count(until_eof = True)\n",
    "print('The total number of reads is: \\n')\n",
    "print(total_num_of_reads)"
   ]
  },
  {
   "cell_type": "code",
   "execution_count": 7,
   "metadata": {},
   "outputs": [
    {
     "output_type": "stream",
     "name": "stdout",
     "text": [
      "Number of unmapped reads in the file: \n\n17765\n\n\nNumber of reads with mapping quality 0: \n\n126628\n"
     ]
    }
   ],
   "source": [
    "# read our file again as we used until_eof in the previous section\n",
    "data = pysam.AlignmentFile(\"merged-tumor.bam\", \"rb\")\n",
    "\n",
    "mapping_q_with_zeros = []\n",
    "mapping_q_non_zeros = []\n",
    "unmapped = 0\n",
    "\n",
    "for read in data:\n",
    "\n",
    "    # check for unmapped reads\n",
    "    if read.is_unmapped:\n",
    "        unmapped = unmapped + 1\n",
    "\n",
    "    # inspect the mapping quality\n",
    "    temp = read.mapping_quality\n",
    "    if not temp == 0:\n",
    "        mapping_q_non_zeros.append(temp)\n",
    "    \n",
    "    mapping_q_with_zeros.append(temp)\n",
    "\n",
    "print('Number of unmapped reads in the file: \\n')\n",
    "print(unmapped)\n",
    "print('\\n')\n",
    "print('Number of reads with mapping quality 0: \\n')\n",
    "print(len(mapping_q_with_zeros)-len(mapping_q_non_zeros))"
   ]
  },
  {
   "cell_type": "code",
   "execution_count": 8,
   "metadata": {},
   "outputs": [
    {
     "output_type": "stream",
     "name": "stdout",
     "text": [
      "Average mapping quality for all the reads: \n",
      "\n",
      "55.91379158681681\n",
      "\n",
      "\n",
      "Average mapping quality if reads with 0 map quality are filtered out: \n",
      "\n",
      "58.446975510921106\n"
     ]
    }
   ],
   "source": [
    "import numpy as np\n",
    "\n",
    "print('Average mapping quality for all the reads: \\n')\n",
    "print(np.mean(mapping_q_with_zeros))\n",
    "print('\\n')\n",
    "print('Average mapping quality if reads with 0 map quality are filtered out: \\n')\n",
    "print(np.mean(mapping_q_non_zeros))"
   ]
  },
  {
   "cell_type": "code",
   "execution_count": 9,
   "metadata": {},
   "outputs": [],
   "source": [
    "# close the BAM file\n",
    "data.close()"
   ]
  }
 ]
}